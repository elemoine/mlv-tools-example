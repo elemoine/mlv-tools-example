{
 "cells": [
  {
   "cell_type": "code",
   "execution_count": null,
   "metadata": {},
   "outputs": [],
   "source": [
    "# Parameters\n",
    "\"\"\"\n",
    ":param str ifile:\n",
    ":param str ofile:\n",
    "\n",
    ":dvc-in ifile: {{ conf.intermediate }}\n",
    ":dvc-out ofile: {{ conf.model }}\n",
    "\"\"\"\n",
    "from pipeline.common.notebooks import client, client_conf_file, conf\n",
    "print(\"client: {}, client conf file: {}\".format(client, client_conf_file))\n",
    "ifile = conf[\"intermediate\"]\n",
    "ofile = conf[\"model\"]"
   ]
  },
  {
   "cell_type": "code",
   "execution_count": null,
   "metadata": {
    "scrolled": true
   },
   "outputs": [],
   "source": [
    "with open(ofile, \"w\") as f:\n",
    "    f.write(\"aggregated model\\n\")"
   ]
  },
  {
   "cell_type": "code",
   "execution_count": null,
   "metadata": {},
   "outputs": [],
   "source": []
  }
 ],
 "metadata": {
  "kernelspec": {
   "display_name": "Python 3",
   "language": "python",
   "name": "python3"
  },
  "language_info": {
   "codemirror_mode": {
    "name": "ipython",
    "version": 3
   },
   "file_extension": ".py",
   "mimetype": "text/x-python",
   "name": "python",
   "nbconvert_exporter": "python",
   "pygments_lexer": "ipython3",
   "version": "3.8.1"
  }
 },
 "nbformat": 4,
 "nbformat_minor": 4
}
